{
 "cells": [
  {
   "cell_type": "code",
   "execution_count": 1,
   "metadata": {
    "id": "YxPAlSQuizzv"
   },
   "outputs": [],
   "source": [
    "import torch\n",
    "import torch.nn as nn\n",
    "import torch.optim as optim\n",
    "import numpy as np\n",
    "import networkx as nx\n",
    "import math\n",
    "import matplotlib.pyplot as plt\n",
    "import time"
   ]
  },
  {
   "cell_type": "code",
   "execution_count": 2,
   "metadata": {},
   "outputs": [],
   "source": [
    "device = torch.device('cuda') if torch.cuda.is_available() else torch.device('cpu')"
   ]
  },
  {
   "cell_type": "code",
   "execution_count": 3,
   "metadata": {},
   "outputs": [],
   "source": [
    "# Sets default tensor to be allocated on device if CUDA is available\n",
    "if torch.cuda.is_available():\n",
    "    torch.set_default_device('cuda')"
   ]
  },
  {
   "cell_type": "code",
   "execution_count": 4,
   "metadata": {
    "id": "e-ZgS6WOmIKK"
   },
   "outputs": [],
   "source": [
    "n = 10\n",
    "seq_length = int((n*(n-1))/2)  # Length of the desired sequence\n",
    "input_size = 2*seq_length\n",
    "hidden_size_1 = 128 # Size of the hidden layer of the neural network\n",
    "hidden_size_2 = 64\n",
    "hidden_size_3 = 4\n",
    "output_size = 1  # Outputs a probability for the next entry"
   ]
  },
  {
   "cell_type": "code",
   "execution_count": 5,
   "metadata": {
    "id": "3mHxwh2ejfNu"
   },
   "outputs": [],
   "source": [
    "# Constructs the model\n",
    "# Note: the model takes a binary vector twice the length of the desired sequence,\n",
    "# and outputs the probability that the next entry of the sequence is a \"1\".\n",
    "# The first half of the input consists of the sequence constructed so far. The second\n",
    "# half is an indicator of the entry that we are generating (as in Wagner's paper).\n",
    "# For example if the input is 0 1 0 0 0 1, then the sequence constructed so far\n",
    "# is 0 1 and the last three entries \"0 0 1\" indicate that we are currently choosing\n",
    "# the last entry.\n",
    "class Net(nn.Module):\n",
    "  def __init__(self, input_size, hidden_size_1, hidden_size_2, hidden_size_3, output_size):\n",
    "    super(Net,self).__init__()\n",
    "    self.nn_stack = nn.Sequential(\n",
    "        nn.Linear(input_size, hidden_size_1),\n",
    "        nn.ReLU(),\n",
    "        nn.Linear(hidden_size_1, hidden_size_2),\n",
    "        nn.ReLU(),\n",
    "        nn.Linear(hidden_size_2, hidden_size_3),\n",
    "        nn.ReLU(),\n",
    "        nn.Linear(hidden_size_3, output_size),\n",
    "        nn.Sigmoid()\n",
    "    )\n",
    "\n",
    "  def forward(self, x):\n",
    "    y = self.nn_stack(x)\n",
    "    return(y)\n",
    "  def optimize(self, input, output):\n",
    "    self.train()\n",
    "    for input_seq, target in zip(input, output):\n",
    "      input_seq = input_seq.to(device)\n",
    "      target = target.to(device)\n",
    "      optimizer.zero_grad()\n",
    "      pred = self(input_seq)\n",
    "      loss = criterion(pred, torch.tensor([target], device = device))\n",
    "      loss.backward()\n",
    "      optimizer.step()\n",
    "    return loss.item()"
   ]
  },
  {
   "cell_type": "code",
   "execution_count": 6,
   "metadata": {
    "id": "_3ALJtdcqiEr"
   },
   "outputs": [],
   "source": [
    "LEARNING_RATE = 0.0001\n",
    "\n",
    "model = Net(input_size, hidden_size_1, hidden_size_2, hidden_size_3, output_size)\n",
    "model = model.to(device)\n",
    "optimizer = optim.Adam(model.parameters(), lr=LEARNING_RATE)\n",
    "criterion = nn.BCELoss() # Using binary cross entropy loss\n",
    "#scheduler = optim.lr_scheduler.ReduceLROnPlateau(optimizer, 'min', 0.1, patience=10)"
   ]
  },
  {
   "cell_type": "code",
   "execution_count": 7,
   "metadata": {
    "id": "WU9ZVhEDl9I6"
   },
   "outputs": [],
   "source": [
    "# Function to generate a new sequence.\n",
    "def generate_sequence(length):\n",
    "  seq = torch.zeros(length)  # Actual sequence\n",
    "  ind = torch.zeros(length)  # Indicator of location\n",
    "  for i in range(length):\n",
    "    ind[i] = 1\n",
    "    seq_con = torch.concatenate([seq, ind])\n",
    "    prob = model.forward(seq_con)\n",
    "    if np.random.rand(1)[0] <= prob:\n",
    "      seq[i] = 1\n",
    "    ind[i] = 0\n",
    "  return(seq)"
   ]
  },
  {
   "cell_type": "code",
   "execution_count": 8,
   "metadata": {
    "id": "-TF3l5KYujg0"
   },
   "outputs": [],
   "source": [
    "# Generates a matrix whose rows are binary sequences generated using the neural net model\n",
    "def generate_seq_matrix(N, length):\n",
    "  mat = torch.zeros(N,length)\n",
    "  for i in range(N):\n",
    "    new_seq = generate_sequence(length)\n",
    "    mat[i,:] = new_seq\n",
    "  return(mat)"
   ]
  },
  {
   "cell_type": "code",
   "execution_count": 9,
   "metadata": {},
   "outputs": [],
   "source": [
    "def sequence_to_adjacency_matrix(seq_matrix, n):\n",
    "    # Initialize an nxn adjacency matrix of zeroes\n",
    "    # n = degree\n",
    "    adj_matrix = np.zeros((n, n), dtype=int)\n",
    "    k = 0\n",
    "    # Add the edges between vertices to the adjacency matrix\n",
    "    for i in range(n):\n",
    "        for j in range(i + 1, n):\n",
    "            if seq_matrix[k] == 1:\n",
    "                adj_matrix[i][j] = 1\n",
    "                adj_matrix[j][i] = 1\n",
    "            k += 1\n",
    "    return adj_matrix"
   ]
  },
  {
   "cell_type": "code",
   "execution_count": 10,
   "metadata": {},
   "outputs": [],
   "source": [
    "def find_largest_eigenvalue(adj_matrix):\n",
    "    adj_matrix = np.array(adj_matrix)\n",
    "    eigenvalues = np.linalg.eigvals(adj_matrix)\n",
    "    largest_eigenvalue = np.max(np.abs(eigenvalues))\n",
    "    return largest_eigenvalue"
   ]
  },
  {
   "cell_type": "code",
   "execution_count": 11,
   "metadata": {},
   "outputs": [],
   "source": [
    "def find_matching_number(adj_matrix):\n",
    "    graph = nx.Graph(adj_matrix)\n",
    "    matching = nx.max_weight_matching(graph, maxcardinality=True)\n",
    "    return len(matching)"
   ]
  },
  {
   "cell_type": "code",
   "execution_count": 12,
   "metadata": {
    "id": "3a5_VD9fs-Qa"
   },
   "outputs": [],
   "source": [
    "# Penalty\n",
    "penalty = -1000\n",
    "\n",
    "# Reward function\n",
    "def reward_fcn(seq):\n",
    "  adj_matrix = sequence_to_adjacency_matrix(seq, n)\n",
    "  G = nx.Graph(adj_matrix)\n",
    "  #if not (nx.is_connected(nx.Graph(adj_matrix))):\n",
    "        #return penalty, 0\n",
    "  # we know this is false for simple graphs M <= 2|E|/|V|, so construct max{deg(V)} - 2|E|/|V| <= 0 and find a counterexample\n",
    "  if not (len(list(nx.simple_cycles(G))) == 0):\n",
    "      return penalty, 0\n",
    "  seq_int = seq.to(torch.int)\n",
    "  #num_edges = (seq == 1).sum()\n",
    "  num_edges = G.number_of_edges()\n",
    "  max_degree = max([val for (node, val) in G.degree()])\n",
    "  score = ((3.5 * num_edges) / n) - max_degree\n",
    "  counterexample_found = 1 if score > 0 else 0\n",
    "  return score, counterexample_found"
   ]
  },
  {
   "cell_type": "code",
   "execution_count": 13,
   "metadata": {
    "id": "tPmLh-d1sXOX"
   },
   "outputs": [],
   "source": [
    "# Pick the top sequences (according to the reward function) from a matrix of sequences\n",
    "# seq_matrix = N x seq_length matrix consisting of N binary sequences\n",
    "# top_perc = percentage of top sequences to keep\n",
    "def elite_sequences(seq_matrix, top_perc):\n",
    "  N = seq_matrix.shape[0]\n",
    "  reward_vec = torch.zeros(N)\n",
    "  counterexample_found = 0\n",
    "  counterexample_graph = None\n",
    "  for i in range(N):\n",
    "    reward_vec[i], counterex = reward_fcn(seq_matrix[i,:])\n",
    "    if counterex:\n",
    "        counterexample_found = 1\n",
    "        counterexample_graph = nx.Graph(sequence_to_adjacency_matrix(seq_matrix[i,:], n))\n",
    "  num_samples = int(np.round(top_perc*N))\n",
    "  elite_indices = torch.argsort(reward_vec, descending=True)[0:num_samples]\n",
    "  elite_matrix = seq_matrix[elite_indices,:]\n",
    "  return elite_matrix, counterexample_found, counterexample_graph, torch.mean(reward_vec[elite_indices]).item()"
   ]
  },
  {
   "cell_type": "code",
   "execution_count": 14,
   "metadata": {
    "id": "gjem-jN8ymsu"
   },
   "outputs": [],
   "source": [
    "# Create input/output pairs for a given matrix of sequences\n",
    "def create_pairs(seq_matrix):\n",
    "  N, p = seq_matrix.shape\n",
    "  input = torch.zeros(N*p, 2*p)\n",
    "  output = torch.zeros(N*p)\n",
    "  counter = 0\n",
    "  for i in range(N):\n",
    "    # Processing sequence i\n",
    "    for j in range(p):\n",
    "      # Index vector\n",
    "      ind = torch.zeros(p)\n",
    "      ind[j] = 1\n",
    "      # Partial sequence\n",
    "      seq = torch.zeros(p)\n",
    "      seq[0:j+1] = seq_matrix[i,0:j+1]\n",
    "      seq[j] = 0\n",
    "      input[counter,:] = torch.concat([seq, ind])\n",
    "      output[counter] = seq_matrix[i,j]\n",
    "      counter += 1\n",
    "  return([input, output])\n"
   ]
  },
  {
   "cell_type": "code",
   "execution_count": 15,
   "metadata": {
    "colab": {
     "base_uri": "https://localhost:8080/"
    },
    "id": "Uez8NWyNvYyL",
    "outputId": "bec26515-f4b0-4f0d-f3a4-a73cc46ae468",
    "scrolled": true
   },
   "outputs": [
    {
     "name": "stdout",
     "output_type": "stream",
     "text": [
      "BCE Loss: 0.6873767375946045 Average Number of Edges: 22.41428565979004 Average Reward: -1000.0\n",
      "Iteration Runtime: 24.1266774 sec\n",
      "tensor([[0., 0., 0.,  ..., 1., 0., 1.],\n",
      "        [0., 1., 1.,  ..., 0., 0., 1.],\n",
      "        [0., 1., 1.,  ..., 1., 1., 0.],\n",
      "        ...,\n",
      "        [0., 1., 0.,  ..., 0., 1., 1.],\n",
      "        [1., 0., 0.,  ..., 0., 0., 0.],\n",
      "        [1., 1., 1.,  ..., 0., 0., 1.]], device='cuda:0')\n",
      "\n",
      "\n",
      "BCE Loss: 0.696782648563385 Average Number of Edges: 21.950000762939453 Average Reward: -1000.0\n",
      "Iteration Runtime: 17.8203221 sec\n",
      "tensor([[0., 0., 0.,  ..., 1., 0., 1.],\n",
      "        [0., 1., 1.,  ..., 0., 0., 1.],\n",
      "        [0., 1., 1.,  ..., 1., 1., 0.],\n",
      "        ...,\n",
      "        [1., 1., 0.,  ..., 1., 0., 1.],\n",
      "        [1., 0., 1.,  ..., 0., 0., 1.],\n",
      "        [0., 1., 1.,  ..., 1., 1., 0.]], device='cuda:0')\n",
      "\n",
      "\n",
      "BCE Loss: 0.7012622356414795 Average Number of Edges: 21.73684310913086 Average Reward: -1000.0\n",
      "Iteration Runtime: 17.250118000000008 sec\n",
      "tensor([[0., 0., 0.,  ..., 1., 0., 1.],\n",
      "        [0., 1., 1.,  ..., 0., 0., 1.],\n",
      "        [0., 1., 1.,  ..., 1., 1., 0.],\n",
      "        ...,\n",
      "        [1., 1., 0.,  ..., 0., 0., 1.],\n",
      "        [0., 0., 1.,  ..., 1., 0., 0.],\n",
      "        [1., 1., 0.,  ..., 1., 0., 1.]], device='cuda:0')\n",
      "\n",
      "\n",
      "BCE Loss: 0.7175647020339966 Average Number of Edges: 21.73684310913086 Average Reward: -1000.0\n",
      "Iteration Runtime: 17.139166000000003 sec\n",
      "tensor([[0., 0., 0.,  ..., 1., 0., 1.],\n",
      "        [0., 1., 1.,  ..., 0., 0., 1.],\n",
      "        [0., 1., 1.,  ..., 1., 1., 0.],\n",
      "        ...,\n",
      "        [1., 1., 0.,  ..., 0., 0., 1.],\n",
      "        [0., 0., 1.,  ..., 1., 0., 0.],\n",
      "        [1., 1., 0.,  ..., 1., 0., 1.]], device='cuda:0')\n",
      "\n",
      "\n",
      "BCE Loss: 0.7900237441062927 Average Number of Edges: 21.73684310913086 Average Reward: -1000.0\n",
      "Iteration Runtime: 17.153808299999994 sec\n",
      "tensor([[0., 0., 0.,  ..., 1., 0., 1.],\n",
      "        [0., 1., 1.,  ..., 0., 0., 1.],\n",
      "        [0., 1., 1.,  ..., 1., 1., 0.],\n",
      "        ...,\n",
      "        [1., 1., 0.,  ..., 0., 0., 1.],\n",
      "        [0., 0., 1.,  ..., 1., 0., 0.],\n",
      "        [1., 1., 0.,  ..., 1., 0., 1.]], device='cuda:0')\n",
      "\n",
      "\n",
      "BCE Loss: 0.840766191482544 Average Number of Edges: 21.73684310913086 Average Reward: -1000.0\n",
      "Iteration Runtime: 16.86431800000001 sec\n",
      "tensor([[0., 0., 0.,  ..., 1., 0., 1.],\n",
      "        [0., 1., 1.,  ..., 0., 0., 1.],\n",
      "        [0., 1., 1.,  ..., 1., 1., 0.],\n",
      "        ...,\n",
      "        [1., 1., 0.,  ..., 0., 0., 1.],\n",
      "        [0., 0., 1.,  ..., 1., 0., 0.],\n",
      "        [1., 1., 0.,  ..., 1., 0., 1.]], device='cuda:0')\n",
      "\n",
      "\n",
      "BCE Loss: 0.9022994041442871 Average Number of Edges: 21.73684310913086 Average Reward: -1000.0\n",
      "Iteration Runtime: 16.473424699999995 sec\n",
      "tensor([[0., 0., 0.,  ..., 1., 0., 1.],\n",
      "        [0., 1., 1.,  ..., 0., 0., 1.],\n",
      "        [0., 1., 1.,  ..., 1., 1., 0.],\n",
      "        ...,\n",
      "        [1., 1., 0.,  ..., 0., 0., 1.],\n",
      "        [0., 0., 1.,  ..., 1., 0., 0.],\n",
      "        [1., 1., 0.,  ..., 1., 0., 1.]], device='cuda:0')\n",
      "\n",
      "\n",
      "BCE Loss: 0.9585323333740234 Average Number of Edges: 21.73684310913086 Average Reward: -1000.0\n",
      "Iteration Runtime: 16.002081199999992 sec\n",
      "tensor([[0., 0., 0.,  ..., 1., 0., 1.],\n",
      "        [0., 1., 1.,  ..., 0., 0., 1.],\n",
      "        [0., 1., 1.,  ..., 1., 1., 0.],\n",
      "        ...,\n",
      "        [1., 1., 0.,  ..., 0., 0., 1.],\n",
      "        [0., 0., 1.,  ..., 1., 0., 0.],\n",
      "        [1., 1., 0.,  ..., 1., 0., 1.]], device='cuda:0')\n",
      "\n",
      "\n",
      "BCE Loss: 1.0343713760375977 Average Number of Edges: 21.73684310913086 Average Reward: -1000.0\n",
      "Iteration Runtime: 17.353553699999992 sec\n",
      "tensor([[0., 0., 0.,  ..., 1., 0., 1.],\n",
      "        [0., 1., 1.,  ..., 0., 0., 1.],\n",
      "        [0., 1., 1.,  ..., 1., 1., 0.],\n",
      "        ...,\n",
      "        [1., 1., 0.,  ..., 0., 0., 1.],\n",
      "        [0., 0., 1.,  ..., 1., 0., 0.],\n",
      "        [1., 1., 0.,  ..., 1., 0., 1.]], device='cuda:0')\n",
      "\n",
      "\n",
      "BCE Loss: 1.09049654006958 Average Number of Edges: 21.73684310913086 Average Reward: -1000.0\n",
      "Iteration Runtime: 16.779006600000002 sec\n",
      "tensor([[0., 0., 0.,  ..., 1., 0., 1.],\n",
      "        [0., 1., 1.,  ..., 0., 0., 1.],\n",
      "        [0., 1., 1.,  ..., 1., 1., 0.],\n",
      "        ...,\n",
      "        [1., 1., 0.,  ..., 0., 0., 1.],\n",
      "        [0., 0., 1.,  ..., 1., 0., 0.],\n",
      "        [1., 1., 0.,  ..., 1., 0., 1.]], device='cuda:0')\n",
      "\n",
      "\n",
      "BCE Loss: 1.1884924173355103 Average Number of Edges: 21.73684310913086 Average Reward: -1000.0\n",
      "Iteration Runtime: 17.227931600000005 sec\n",
      "tensor([[0., 0., 0.,  ..., 1., 0., 1.],\n",
      "        [0., 1., 1.,  ..., 0., 0., 1.],\n",
      "        [0., 1., 1.,  ..., 1., 1., 0.],\n",
      "        ...,\n",
      "        [1., 1., 0.,  ..., 0., 0., 1.],\n",
      "        [0., 0., 1.,  ..., 1., 0., 0.],\n",
      "        [1., 1., 0.,  ..., 1., 0., 1.]], device='cuda:0')\n",
      "\n",
      "\n",
      "BCE Loss: 0.7351480722427368 Average Number of Edges: 21.026315689086914 Average Reward: -947.37890625\n",
      "Iteration Runtime: 16.669195400000007 sec\n",
      "tensor([[0., 1., 0.,  ..., 0., 0., 0.],\n",
      "        [1., 0., 0.,  ..., 1., 0., 0.],\n",
      "        [0., 0., 0.,  ..., 1., 0., 1.],\n",
      "        ...,\n",
      "        [0., 1., 0.,  ..., 1., 1., 0.],\n",
      "        [1., 0., 1.,  ..., 0., 0., 0.],\n",
      "        [1., 1., 0.,  ..., 0., 0., 1.]], device='cuda:0')\n",
      "\n",
      "\n",
      "BCE Loss: 0.72184818983078 Average Number of Edges: 21.026315689086914 Average Reward: -947.37890625\n",
      "Iteration Runtime: 16.3685859 sec\n",
      "tensor([[0., 1., 0.,  ..., 0., 0., 0.],\n",
      "        [1., 0., 0.,  ..., 1., 0., 0.],\n",
      "        [0., 0., 0.,  ..., 1., 0., 1.],\n",
      "        ...,\n",
      "        [0., 1., 0.,  ..., 1., 1., 0.],\n",
      "        [1., 0., 1.,  ..., 0., 0., 0.],\n",
      "        [1., 1., 0.,  ..., 0., 0., 1.]], device='cuda:0')\n",
      "\n",
      "\n",
      "BCE Loss: 0.7265405058860779 Average Number of Edges: 21.026315689086914 Average Reward: -947.37890625\n",
      "Iteration Runtime: 16.933112299999976 sec\n",
      "tensor([[0., 1., 0.,  ..., 0., 0., 0.],\n",
      "        [1., 0., 0.,  ..., 1., 0., 0.],\n",
      "        [0., 0., 0.,  ..., 1., 0., 1.],\n",
      "        ...,\n",
      "        [0., 1., 0.,  ..., 1., 1., 0.],\n",
      "        [1., 0., 1.,  ..., 0., 0., 0.],\n",
      "        [1., 1., 0.,  ..., 0., 0., 1.]], device='cuda:0')\n",
      "\n",
      "\n",
      "BCE Loss: 0.7349995970726013 Average Number of Edges: 21.026315689086914 Average Reward: -947.37890625\n",
      "Iteration Runtime: 17.451118099999974 sec\n",
      "tensor([[0., 1., 0.,  ..., 0., 0., 0.],\n",
      "        [1., 0., 0.,  ..., 1., 0., 0.],\n",
      "        [0., 0., 0.,  ..., 1., 0., 1.],\n",
      "        ...,\n",
      "        [0., 1., 0.,  ..., 1., 1., 0.],\n",
      "        [1., 0., 1.,  ..., 0., 0., 0.],\n",
      "        [1., 1., 0.,  ..., 0., 0., 1.]], device='cuda:0')\n",
      "\n",
      "\n",
      "BCE Loss: 0.1785033643245697 Average Number of Edges: 20.657894134521484 Average Reward: -921.1131591796875\n",
      "Iteration Runtime: 16.989989300000047 sec\n",
      "tensor([[0., 1., 0.,  ..., 0., 0., 0.],\n",
      "        [1., 0., 0.,  ..., 1., 0., 0.],\n",
      "        [1., 1., 0.,  ..., 1., 0., 0.],\n",
      "        ...,\n",
      "        [0., 1., 1.,  ..., 1., 0., 1.],\n",
      "        [0., 1., 0.,  ..., 1., 1., 0.],\n",
      "        [1., 0., 1.,  ..., 0., 0., 0.]], device='cuda:0')\n",
      "\n",
      "\n",
      "BCE Loss: 0.15622109174728394 Average Number of Edges: 20.657894134521484 Average Reward: -921.1131591796875\n",
      "Iteration Runtime: 16.067783799999972 sec\n",
      "tensor([[0., 1., 0.,  ..., 0., 0., 0.],\n",
      "        [1., 0., 0.,  ..., 1., 0., 0.],\n",
      "        [1., 1., 0.,  ..., 1., 0., 0.],\n",
      "        ...,\n",
      "        [0., 1., 1.,  ..., 1., 0., 1.],\n",
      "        [0., 1., 0.,  ..., 1., 1., 0.],\n",
      "        [1., 0., 1.,  ..., 0., 0., 0.]], device='cuda:0')\n",
      "\n",
      "\n",
      "BCE Loss: 0.7177374958992004 Average Number of Edges: 20.289474487304688 Average Reward: -894.821044921875\n",
      "Iteration Runtime: 16.444891600000005 sec\n",
      "tensor([[0., 1., 0.,  ..., 0., 0., 0.],\n",
      "        [1., 0., 0.,  ..., 1., 0., 0.],\n",
      "        [0., 1., 0.,  ..., 0., 0., 0.],\n",
      "        ...,\n",
      "        [0., 0., 0.,  ..., 0., 1., 0.],\n",
      "        [0., 1., 1.,  ..., 1., 0., 1.],\n",
      "        [0., 1., 0.,  ..., 1., 1., 0.]], device='cuda:0')\n",
      "\n",
      "\n",
      "BCE Loss: 0.1981068253517151 Average Number of Edges: 19.947368621826172 Average Reward: -868.5013427734375\n",
      "Iteration Runtime: 16.19617740000001 sec\n",
      "tensor([[1., 1., 0.,  ..., 0., 0., 0.],\n",
      "        [0., 1., 0.,  ..., 0., 0., 0.],\n",
      "        [1., 0., 0.,  ..., 1., 0., 0.],\n",
      "        ...,\n",
      "        [1., 0., 1.,  ..., 1., 1., 0.],\n",
      "        [0., 0., 0.,  ..., 0., 1., 0.],\n",
      "        [0., 1., 1.,  ..., 1., 0., 1.]], device='cuda:0')\n",
      "\n",
      "\n",
      "tensor([[1., 1., 0.,  ..., 0., 0., 0.],\n",
      "        [0., 1., 0.,  ..., 0., 0., 0.],\n",
      "        [1., 0., 0.,  ..., 1., 0., 0.],\n",
      "        ...,\n",
      "        [1., 0., 1.,  ..., 1., 1., 0.],\n",
      "        [0., 0., 0.,  ..., 0., 1., 0.],\n",
      "        [0., 1., 1.,  ..., 1., 0., 1.]], device='cuda:0')\n",
      "Program Runtime: 327.3906076 seconds\n",
      "\n",
      "Counterexample found!\n"
     ]
    },
    {
     "data": {
      "image/png": "[encoded data removed]",
      "text/plain": [
       "<Figure size 640x480 with 1 Axes>"
      ]
     },
     "metadata": {},
     "output_type": "display_data"
    }
   ],
   "source": [
    "# Start training\n",
    "batch_size = 500  # Number of generated sequences per training\n",
    "num_train = 300 # Number of iterations\n",
    "\n",
    "# Initialize the matrix of elites (top sequences)\n",
    "current_elites = generate_seq_matrix(batch_size, seq_length)\n",
    "\n",
    "counterexample_found = 0\n",
    "\n",
    "program_start_time = time.perf_counter()\n",
    "for i in range(num_train):\n",
    "    iteration_start_time = time.perf_counter()\n",
    "    if (counterexample_found):\n",
    "        break\n",
    "    # Generate new batch of sequences\n",
    "    seq_mat = generate_seq_matrix(batch_size, seq_length)\n",
    "    # Add new samples to elite matrix\n",
    "    current_elites = torch.concat([current_elites, seq_mat])\n",
    "    # Pick top X% samples\n",
    "    current_elites, counterexample_found, counterexample_graph, reward_tracker = elite_sequences(current_elites, 0.07)\n",
    "    # Create training data for the neural net model\n",
    "    input, output = create_pairs(current_elites)\n",
    "    input_on_device = input.to(device)\n",
    "    output_on_device = output.to(device)\n",
    "    # Optimizes the parameters of the model\n",
    "    loss = model.optimize(input_on_device, output_on_device)\n",
    "    #scheduler.step(loss)\n",
    "    avg_elite_ones = current_elites.sum(axis=1).mean().item()\n",
    "    print(\"BCE Loss:\", loss, 'Average Number of Edges:', avg_elite_ones, \"Average Reward:\", reward_tracker)\n",
    "    print(\"Iteration Runtime:\", time.perf_counter() - iteration_start_time, \"sec\")\n",
    "    print(current_elites)\n",
    "    print(\"\\n\")\n",
    "    # G = nx.Graph()\n",
    "    # G.add_nodes_from(list(range(n)))\n",
    "    # count = 0\n",
    "    # for i in range(n):\n",
    "    #     for j in range(i+1,n):\n",
    "    #     \tif current_elites[0].tolist()[count] == 1:\n",
    "    #     \t\tG.add_edge(i,j)\n",
    "    #     \tcount += 1\n",
    "    # plt.figure(figsize=(4, 4)) \n",
    "    # nx.draw(G)\n",
    "    # plt.show()\n",
    "print(current_elites)\n",
    "print(\"Program Runtime:\", time.perf_counter() - program_start_time, \"seconds\\n\")\n",
    "print(\"Counterexample found!\")\n",
    "nx.draw(counterexample_graph)\n",
    "plt.show()"
   ]
  },
  {
   "cell_type": "code",
   "execution_count": 26,
   "metadata": {},
   "outputs": [
    {
     "data": {
      "image/png": "[encoded data removed]",
      "text/plain": [
       "<Figure size 640x480 with 1 Axes>"
      ]
     },
     "metadata": {},
     "output_type": "display_data"
    }
   ],
   "source": [
    "nx.draw(counterexample_graph)\n",
    "plt.savefig(\"counterexample2.png\", format=\"PNG\")\n",
    "plt.show()"
   ]
  },
  {
   "cell_type": "code",
   "execution_count": 22,
   "metadata": {},
   "outputs": [
    {
     "name": "stdout",
     "output_type": "stream",
     "text": [
      "0.1499999999999999\n"
     ]
    }
   ],
   "source": [
    "num_edges = counterexample_graph.number_of_edges()\n",
    "max_degree = max([val for (node, val) in counterexample_graph.degree()])\n",
    "score = ((3.5 * num_edges) / n) - max_degree\n",
    "print(score)"
   ]
  },
  {
   "cell_type": "code",
   "execution_count": 17,
   "metadata": {},
   "outputs": [],
   "source": [
    "A = sequence_to_adjacency_matrix(current_elites[0].tolist(), n)"
   ]
  },
  {
   "cell_type": "code",
   "execution_count": 18,
   "metadata": {},
   "outputs": [
    {
     "name": "stdout",
     "output_type": "stream",
     "text": [
      "[[0 1 1 0 0 0 0 0 1 0]\n",
      " [1 0 0 0 0 0 0 0 0 0]\n",
      " [1 0 0 0 0 0 0 0 0 1]\n",
      " [0 0 0 0 0 1 0 1 0 0]\n",
      " [0 0 0 0 0 1 0 0 0 1]\n",
      " [0 0 0 1 1 0 1 0 0 0]\n",
      " [0 0 0 0 0 1 0 0 0 0]\n",
      " [0 0 0 1 0 0 0 0 0 0]\n",
      " [1 0 0 0 0 0 0 0 0 0]\n",
      " [0 0 1 0 1 0 0 0 0 0]]\n"
     ]
    }
   ],
   "source": [
    "print(A)"
   ]
  },
  {
   "cell_type": "code",
   "execution_count": 19,
   "metadata": {},
   "outputs": [
    {
     "name": "stdout",
     "output_type": "stream",
     "text": [
      "2.0314421132823908  +  4  =  6.031442113282391\n",
      "4.0\n",
      "Not a counterexample\n"
     ]
    }
   ],
   "source": [
    "eig = find_largest_eigenvalue(A)\n",
    "mu = find_matching_number(A)\n",
    "print(eig, \" + \", mu, \" = \", eig+mu)\n",
    "print(math.sqrt(n-1) + 1)\n",
    "print('Counterexample found') if (eig+mu < math.sqrt(n-1) + 1) else print('Not a counterexample')"
   ]
  },
  {
   "cell_type": "code",
   "execution_count": 20,
   "metadata": {},
   "outputs": [
    {
     "data": {
      "image/png": "[encoded data removed]",
      "text/plain": [
       "<Figure size 640x480 with 1 Axes>"
      ]
     },
     "metadata": {},
     "output_type": "display_data"
    }
   ],
   "source": [
    "G = nx.Graph()\n",
    "G.add_nodes_from(list(range(n)))\n",
    "count = 0\n",
    "for i in range(n):\n",
    "\tfor j in range(i+1,n):\n",
    "\t\tif current_elites[-1].tolist()[count] == 1:\n",
    "\t\t\tG.add_edge(i,j)\n",
    "\t\tcount += 1\n",
    "nx.draw(G)\n",
    "plt.show()"
   ]
  },
  {
   "cell_type": "code",
   "execution_count": null,
   "metadata": {},
   "outputs": [],
   "source": []
  }
 ],
 "metadata": {
  "colab": {
   "provenance": []
  },
  "kernelspec": {
   "display_name": "Python 3 (ipykernel)",
   "language": "python",
   "name": "python3"
  },
  "language_info": {
   "codemirror_mode": {
    "name": "ipython",
    "version": 3
   },
   "file_extension": ".py",
   "mimetype": "text/x-python",
   "name": "python",
   "nbconvert_exporter": "python",
   "pygments_lexer": "ipython3",
   "version": "3.9.10"
  }
 },
 "nbformat": 4,
 "nbformat_minor": 4
}
