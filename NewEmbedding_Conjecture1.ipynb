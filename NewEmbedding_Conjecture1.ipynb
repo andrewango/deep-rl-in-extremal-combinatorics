{
 "cells": [
  {
   "cell_type": "code",
   "execution_count": 1,
   "id": "426aef37-a623-4823-8fa6-a1d37bc69ab8",
   "metadata": {},
   "outputs": [],
   "source": [
    "import numpy as np\n",
    "import math\n",
    "import networkx as nx\n",
    "import matplotlib.pyplot as plt\n",
    "import torch\n",
    "import torch.nn as nn\n",
    "import torch.optim as optim\n",
    "import subprocess\n",
    "import torch.nn.init as init\n",
    "import time"
   ]
  },
  {
   "cell_type": "code",
   "execution_count": 2,
   "id": "d17badc3-8ec1-4f9b-8562-65fac8dbe750",
   "metadata": {},
   "outputs": [],
   "source": [
    "# Reinforcement approach\n",
    "n = 10\n",
    "dimension = 1\n",
    "epsilon = 0.2  # Distance to connect vertices\n",
    "sigma = 0.4 # Standard deviation for random sampling\n",
    "p = 0.9  # Probability of not generating a new point at random\n",
    "seq_length = dimension*n # each vertex has \"dimension\" coordinates \n",
    "input_size = seq_length\n",
    "hidden_size = 32\n",
    "output_size = dimension  # Outputs a new point"
   ]
  },
  {
   "cell_type": "code",
   "execution_count": 3,
   "id": "41bf1388-4a2d-4439-880c-45fe552feee5",
   "metadata": {},
   "outputs": [],
   "source": [
    "class Net(nn.Module):\n",
    "  def __init__(self, input_size, hidden_size, output_size):\n",
    "    super(Net,self).__init__()\n",
    "    self.nn_stack = nn.Sequential(\n",
    "        nn.Linear(input_size, 128),\n",
    "        nn.Sigmoid(),\n",
    "        nn.Linear(128, 64),\n",
    "        nn.Sigmoid(),\n",
    "        nn.Linear(64, 4),\n",
    "        nn.Sigmoid(),\n",
    "        nn.Linear(4, output_size),\n",
    "        nn.Sigmoid()  \n",
    "    )\n",
    "    self.apply(self.init_weights)  # Apply custom initialization\n",
    "\n",
    "  def forward(self, x):\n",
    "    y = self.nn_stack(x)\n",
    "    return(y)\n",
    "\n",
    "  def optimize(self, input, output):\n",
    "    self.train()\n",
    "    for input_seq, target in zip(input, output):\n",
    "      optimizer.zero_grad()\n",
    "      pred = self(input_seq)\n",
    "      loss = criterion(pred, target)\n",
    "      loss.backward()\n",
    "      optimizer.step()\n",
    "    return loss.item()\n",
    "\n",
    "  def init_weights(self, m):\n",
    "    if isinstance(m, nn.Linear):\n",
    "      init.xavier_uniform_(m.weight)  # Xavier initialization\n",
    "      init.zeros_(m.bias)  # Initialize biases to zero"
   ]
  },
  {
   "cell_type": "code",
   "execution_count": 4,
   "id": "451eaa43-8ec6-43c8-9e32-9bc44dcdb95d",
   "metadata": {},
   "outputs": [],
   "source": [
    "model = Net(input_size, hidden_size, output_size)\n",
    "optimizer = optim.Adam(model.parameters(), lr=0.0001)\n",
    "criterion = nn.MSELoss()   # Using MSE loss"
   ]
  },
  {
   "cell_type": "code",
   "execution_count": 5,
   "id": "4a67c8f1-d6f8-414c-bd48-b8e6b4a03007",
   "metadata": {},
   "outputs": [],
   "source": [
    "def generate_sequence(length, noise=True):\n",
    "  seq = torch.zeros(length)  # Actual sequence\n",
    "  #ind = torch.zeros(length)  # Indicator of location\n",
    "  for i in range(n):\n",
    "    #ind[i] = 1\n",
    "    with torch.no_grad():\n",
    "      r = np.random.rand()\n",
    "      if r < p:  # Pick new point accoding to neural net\n",
    "        new_pt_mean = model(seq)\n",
    "        noise = np.random.randn(dimension)\n",
    "        if noise: # A noise to selected point\n",
    "          new_pt = torch.clamp(new_pt_mean+sigma*noise, min=0, max=1)\n",
    "        else:\n",
    "          new_pt = new_pt_mean\n",
    "      else: # Add random point with probability 1-p\n",
    "        new_pt = torch.tensor(np.random.rand(dimension))\n",
    "      seq[dimension*i:dimension*(i+1)] = new_pt  # Add new point to the sequence\n",
    "  return(seq)"
   ]
  },
  {
   "cell_type": "code",
   "execution_count": 6,
   "id": "d33d6b02-518b-452c-a921-799616e8c575",
   "metadata": {},
   "outputs": [],
   "source": [
    "def build_graph(seq, epsilon):\n",
    "    adj_mat = np.zeros((n, n))\n",
    "    for i in range(n):\n",
    "        for j in range(i+1,n):\n",
    "            dist = np.linalg.norm(seq[i*dimension:(i+1)*dimension]-seq[j*dimension:(j+1)*dimension])\n",
    "            if dist < epsilon:\n",
    "                adj_mat[i,j] = 1\n",
    "                adj_mat[j,i] = 1\n",
    "    return(adj_mat)"
   ]
  },
  {
   "cell_type": "code",
   "execution_count": 7,
   "id": "5d8a8a22-abee-448f-bd6d-5f315023665e",
   "metadata": {},
   "outputs": [],
   "source": [
    "def generate_seq_matrix(N, length):\n",
    "  mat = torch.zeros(N,length)\n",
    "  # First generate a sequence with no noise\n",
    "  new_seq = generate_sequence(length, noise=False)\n",
    "  mat[0,:] = new_seq\n",
    "  # Add the other sequences\n",
    "  for i in range(1,N):\n",
    "    new_seq = generate_sequence(length)\n",
    "    mat[i,:] = new_seq\n",
    "  return(mat)"
   ]
  },
  {
   "cell_type": "code",
   "execution_count": 8,
   "id": "a372c451-8900-43fa-9c5f-aeeb7f2bd667",
   "metadata": {},
   "outputs": [],
   "source": [
    "def reward_fcn(seq):\n",
    "    adj = build_graph(seq, epsilon)\n",
    "    G = nx.from_numpy_array(adj)\n",
    "    # Calculate reward for a given graph and we want to penalize disconnected graphs\n",
    "    # if not nx.is_connected(G):\n",
    "    #     return -1000\n",
    "    # n = n\n",
    "    # matching_number = len(nx.algorithms.matching.max_weight_matching(G, maxcardinality=True))\n",
    "    # eigenvalues = np.linalg.eigvals(adj)\n",
    "    # largest_eigenvalue = np.max(np.abs(eigenvalues))\n",
    "    # reward = math.sqrt(n - 1) + 1 - matching_number - largest_eigenvalue\n",
    "\n",
    "    if not (len(list(nx.simple_cycles(G))) == 0):\n",
    "        return -1000\n",
    "    seq_int = seq.to(torch.int)\n",
    "    num_edges = G.number_of_edges()\n",
    "    max_degree = max([val for (node, val) in G.degree()])\n",
    "    reward = ((3.5 * num_edges) / n) - max_degree\n",
    "    return(reward)"
   ]
  },
  {
   "cell_type": "code",
   "execution_count": 9,
   "id": "096f3de5-5963-4857-9317-17794351934a",
   "metadata": {},
   "outputs": [],
   "source": [
    "def elite_sequences(seq_matrix, top_perc):\n",
    "    N = seq_matrix.shape[0]\n",
    "    reward_vec = torch.zeros(N)\n",
    "    for i in range(N):\n",
    "        reward_vec[i] = reward_fcn(seq_matrix[i,:])\n",
    "    num_samples = int(np.round(top_perc*N))\n",
    "    elite_indices = torch.argsort(reward_vec, descending=True)[0:num_samples]\n",
    "    elite_reward = reward_vec[elite_indices]\n",
    "    elite_matrix = seq_matrix[elite_indices,:]\n",
    "    return([elite_matrix, elite_reward])"
   ]
  },
  {
   "cell_type": "code",
   "execution_count": 10,
   "id": "7b86074c-d5e5-4fb2-8641-a93d1995c765",
   "metadata": {},
   "outputs": [],
   "source": [
    "# Create input/output pairs for a given matrix of sequences\n",
    "def create_pairs(seq_matrix):\n",
    "  N, p = seq_matrix.shape\n",
    "  input = torch.zeros(N*(n-1), p)\n",
    "  output = torch.zeros(N*(n-1), dimension)\n",
    "  counter = 0\n",
    "  for i in range(N):\n",
    "    # Processing sequence i\n",
    "    for j in range(n-1):\n",
    "      # Partial sequence\n",
    "      seq = torch.zeros(p)\n",
    "      seq[0:(j+1)*dimension] = seq_matrix[i,0:(j+1)*dimension]\n",
    "      input[counter,:] = seq\n",
    "      output[counter,:] =  seq_matrix[i,(j+1)*dimension:(j+2)*dimension]\n",
    "      counter += 1\n",
    "  return([input, output])"
   ]
  },
  {
   "cell_type": "code",
   "execution_count": 11,
   "id": "92f70b8c-dcd8-4ce5-91ee-6ad029b0552b",
   "metadata": {},
   "outputs": [
    {
     "name": "stdout",
     "output_type": "stream",
     "text": [
      "Max elite   Mean elite\n",
      "tensor(-1000.) tensor(-1000.)\n",
      "tensor(-1000.) tensor(-1000.)\n",
      "tensor(-1000.) tensor(-1000.)\n",
      "tensor(-1000.) tensor(-1000.)\n",
      "tensor(-1000.) tensor(-1000.)\n",
      "tensor(-1000.) tensor(-1000.)\n",
      "tensor(-1000.) tensor(-1000.)\n",
      "tensor(-1000.) tensor(-1000.)\n",
      "tensor(-1000.) tensor(-1000.)\n",
      "tensor(-1000.) tensor(-1000.)\n",
      "tensor(-1000.) tensor(-1000.)\n",
      "tensor(-1000.) tensor(-1000.)\n",
      "tensor(-1000.) tensor(-1000.)\n",
      "tensor(-1000.) tensor(-1000.)\n",
      "tensor(-1000.) tensor(-1000.)\n",
      "tensor(-1000.) tensor(-1000.)\n",
      "tensor(-1000.) tensor(-1000.)\n",
      "tensor(-1000.) tensor(-1000.)\n",
      "tensor(-1000.) tensor(-1000.)\n",
      "tensor(-1000.) tensor(-1000.)\n",
      "tensor(-1000.) tensor(-1000.)\n",
      "tensor(-1000.) tensor(-1000.)\n",
      "tensor(-1000.) tensor(-1000.)\n",
      "tensor(-1000.) tensor(-1000.)\n",
      "tensor(-1000.) tensor(-1000.)\n",
      "tensor(0.7500) tensor(-961.5096)\n",
      "Counterexample found!\n",
      "Program Runtime: 28.7915131 seconds\n",
      "\n"
     ]
    }
   ],
   "source": [
    "# Start training\n",
    "batch_size = 500  # Number of generated sequences per training\n",
    "num_train = 10000 # Number of iterations\n",
    "\n",
    "current_elites = generate_seq_matrix(batch_size, seq_length)\n",
    "program_start_time = time.perf_counter()\n",
    "\n",
    "print(\"Max elite   Mean elite\")\n",
    "for i in range(num_train):\n",
    "    # Generate new sample\n",
    "    seq_mat = generate_seq_matrix(batch_size, seq_length)\n",
    "    # Add new samples to elite matrix\n",
    "    current_elites = torch.concat([current_elites, seq_mat])\n",
    "    # Pick top 5% samples \n",
    "    current_elites, elite_rewards = elite_sequences(current_elites, 0.05)\n",
    "    # Update model parameters\n",
    "    input, output = create_pairs(current_elites)\n",
    "    loss = model.optimize(input, output)\n",
    "    max_elite = elite_rewards.max()\n",
    "    mean_elite = elite_rewards.mean()\n",
    "    print(max_elite, mean_elite)\n",
    "    if max_elite > 0:\n",
    "        print(\"Counterexample found!\")\n",
    "        #send_email()\n",
    "        break\n",
    "\n",
    "program_runtime = time.perf_counter() - program_start_time\n",
    "print(\"Program Runtime:\", program_runtime, \"seconds\\n\")"
   ]
  },
  {
   "cell_type": "code",
   "execution_count": 12,
   "id": "56951ec0-b79a-433e-83c8-7b1f11fa398b",
   "metadata": {},
   "outputs": [
    {
     "data": {
      "text/plain": [
       "tensor([ 7.5000e-01, -1.0000e+03, -1.0000e+03, -1.0000e+03, -1.0000e+03,\n",
       "        -1.0000e+03, -1.0000e+03, -1.0000e+03, -1.0000e+03, -1.0000e+03,\n",
       "        -1.0000e+03, -1.0000e+03, -1.0000e+03, -1.0000e+03, -1.0000e+03,\n",
       "        -1.0000e+03, -1.0000e+03, -1.0000e+03, -1.0000e+03, -1.0000e+03,\n",
       "        -1.0000e+03, -1.0000e+03, -1.0000e+03, -1.0000e+03, -1.0000e+03,\n",
       "        -1.0000e+03])"
      ]
     },
     "execution_count": 12,
     "metadata": {},
     "output_type": "execute_result"
    }
   ],
   "source": [
    "elite_rewards"
   ]
  },
  {
   "cell_type": "code",
   "execution_count": 13,
   "id": "38752e60-f2d7-4cca-ac47-0f39163028d0",
   "metadata": {},
   "outputs": [
    {
     "data": {
      "text/plain": [
       "tensor([0.7430, 0.0000, 0.2002, 0.0000, 0.9948, 0.6962, 0.4576, 0.2082, 0.4533,\n",
       "        0.9767])"
      ]
     },
     "execution_count": 13,
     "metadata": {},
     "output_type": "execute_result"
    }
   ],
   "source": [
    "current_elites[0,:]"
   ]
  },
  {
   "cell_type": "code",
   "execution_count": 14,
   "id": "ff12ee50-f8b9-4299-a26a-da4d098c8bd8",
   "metadata": {},
   "outputs": [
    {
     "data": {
      "text/plain": [
       "0.75"
      ]
     },
     "execution_count": 14,
     "metadata": {},
     "output_type": "execute_result"
    }
   ],
   "source": [
    "reward_fcn(current_elites[0,:])"
   ]
  },
  {
   "cell_type": "code",
   "execution_count": 17,
   "id": "aaf254e2-051d-43a7-a0e9-3894a1076b16",
   "metadata": {},
   "outputs": [
    {
     "data": {
      "image/png": "[encoded data removed]",
      "text/plain": [
       "<Figure size 640x480 with 1 Axes>"
      ]
     },
     "metadata": {},
     "output_type": "display_data"
    }
   ],
   "source": [
    "adj_matrix = build_graph(current_elites[0,:],epsilon)\n",
    "counterexample_graph = nx.Graph(adj_matrix)\n",
    "nx.draw(counterexample_graph)\n",
    "plt.savefig(\"counterexample1.png\", format=\"PNG\")\n",
    "plt.show()"
   ]
  },
  {
   "cell_type": "code",
   "execution_count": 18,
   "id": "d4ab9cc6-5249-41df-9bb8-98776883dd82",
   "metadata": {},
   "outputs": [
    {
     "data": {
      "text/plain": [
       "5"
      ]
     },
     "execution_count": 18,
     "metadata": {},
     "output_type": "execute_result"
    }
   ],
   "source": [
    "counterexample_graph.number_of_edges()"
   ]
  },
  {
   "cell_type": "code",
   "execution_count": null,
   "id": "5c2604a7-39d7-40f0-98b6-d286b53f614b",
   "metadata": {},
   "outputs": [],
   "source": []
  }
 ],
 "metadata": {
  "kernelspec": {
   "display_name": "Python 3 (ipykernel)",
   "language": "python",
   "name": "python3"
  },
  "language_info": {
   "codemirror_mode": {
    "name": "ipython",
    "version": 3
   },
   "file_extension": ".py",
   "mimetype": "text/x-python",
   "name": "python",
   "nbconvert_exporter": "python",
   "pygments_lexer": "ipython3",
   "version": "3.9.10"
  }
 },
 "nbformat": 4,
 "nbformat_minor": 5
}
